{
 "cells": [
  {
   "cell_type": "code",
   "execution_count": null,
   "metadata": {
    "ExecuteTime": {
     "end_time": "2020-08-03T21:44:09.505086Z",
     "start_time": "2020-08-03T21:44:04.699007Z"
    }
   },
   "outputs": [],
   "source": [
    "#pip install imbalanced-learn\n",
    "#!pip install pygam\n",
    "#!pip install dmba"
   ]
  },
  {
   "cell_type": "code",
   "execution_count": 1,
   "metadata": {
    "ExecuteTime": {
     "end_time": "2020-08-03T21:44:32.063590Z",
     "start_time": "2020-08-03T21:44:28.752333Z"
    }
   },
   "outputs": [],
   "source": [
    "from pathlib import Path\n",
    "import pandas as pd\n",
    "import numpy as np\n",
    "\n",
    "from sklearn.naive_bayes import MultinomialNB\n",
    "from sklearn.discriminant_analysis import LinearDiscriminantAnalysis\n",
    "from sklearn.linear_model import LogisticRegression #, LogisticRegressionCV\n",
    "from sklearn.tree import DecisionTreeClassifier\n",
    "from sklearn.metrics import confusion_matrix, precision_recall_fscore_support\n",
    "from sklearn.metrics import roc_curve, accuracy_score, roc_auc_score\n",
    "\n",
    "import statsmodels.api as sm\n",
    "\n",
    "from imblearn.over_sampling import SMOTE, ADASYN, BorderlineSMOTE\n",
    "from pygam import LinearGAM, s, f, l\n",
    "\n",
    "\n",
    "from dmba import classificationSummary\n",
    "\n",
    "import seaborn as sns\n",
    "import matplotlib.pyplot as plt"
   ]
  },
  {
   "cell_type": "markdown",
   "metadata": {},
   "source": [
    "## Naive Bayes"
   ]
  },
  {
   "cell_type": "code",
   "execution_count": 2,
   "metadata": {
    "ExecuteTime": {
     "end_time": "2020-08-03T21:44:34.995710Z",
     "start_time": "2020-08-03T21:44:34.776411Z"
    }
   },
   "outputs": [
    {
     "name": "stdout",
     "output_type": "stream",
     "text": [
      "<class 'pandas.core.frame.DataFrame'>\n",
      "RangeIndex: 45342 entries, 0 to 45341\n",
      "Data columns (total 21 columns):\n",
      " #   Column             Non-Null Count  Dtype  \n",
      "---  ------             --------------  -----  \n",
      " 0   Unnamed: 0         45342 non-null  int64  \n",
      " 1   status             45342 non-null  object \n",
      " 2   loan_amnt          45342 non-null  int64  \n",
      " 3   term               45342 non-null  object \n",
      " 4   annual_inc         45342 non-null  int64  \n",
      " 5   dti                45342 non-null  float64\n",
      " 6   payment_inc_ratio  45342 non-null  float64\n",
      " 7   revol_bal          45342 non-null  int64  \n",
      " 8   revol_util         45342 non-null  float64\n",
      " 9   purpose            45342 non-null  object \n",
      " 10  home_ownership     45342 non-null  object \n",
      " 11  delinq_2yrs_zero   45342 non-null  int64  \n",
      " 12  pub_rec_zero       45342 non-null  int64  \n",
      " 13  open_acc           45342 non-null  int64  \n",
      " 14  grade              45342 non-null  float64\n",
      " 15  outcome            45342 non-null  object \n",
      " 16  emp_length         45342 non-null  int64  \n",
      " 17  purpose_           45342 non-null  object \n",
      " 18  home_              45342 non-null  object \n",
      " 19  emp_len_           45342 non-null  object \n",
      " 20  borrower_score     45342 non-null  float64\n",
      "dtypes: float64(5), int64(8), object(8)\n",
      "memory usage: 7.3+ MB\n"
     ]
    }
   ],
   "source": [
    "### The Naive Solution\n",
    "\n",
    "loan_data = pd.read_csv('./Data/loan_data.csv')\n",
    "\n",
    "loan_data.info()"
   ]
  },
  {
   "cell_type": "code",
   "execution_count": 3,
   "metadata": {
    "ExecuteTime": {
     "end_time": "2020-08-03T21:44:35.532118Z",
     "start_time": "2020-08-03T21:44:35.460030Z"
    }
   },
   "outputs": [
    {
     "name": "stdout",
     "output_type": "stream",
     "text": [
      "<class 'pandas.core.frame.DataFrame'>\n",
      "RangeIndex: 45342 entries, 0 to 45341\n",
      "Data columns (total 21 columns):\n",
      " #   Column             Non-Null Count  Dtype   \n",
      "---  ------             --------------  -----   \n",
      " 0   Unnamed: 0         45342 non-null  int64   \n",
      " 1   status             45342 non-null  object  \n",
      " 2   loan_amnt          45342 non-null  int64   \n",
      " 3   term               45342 non-null  object  \n",
      " 4   annual_inc         45342 non-null  int64   \n",
      " 5   dti                45342 non-null  float64 \n",
      " 6   payment_inc_ratio  45342 non-null  float64 \n",
      " 7   revol_bal          45342 non-null  int64   \n",
      " 8   revol_util         45342 non-null  float64 \n",
      " 9   purpose            45342 non-null  object  \n",
      " 10  home_ownership     45342 non-null  object  \n",
      " 11  delinq_2yrs_zero   45342 non-null  int64   \n",
      " 12  pub_rec_zero       45342 non-null  int64   \n",
      " 13  open_acc           45342 non-null  int64   \n",
      " 14  grade              45342 non-null  float64 \n",
      " 15  outcome            45342 non-null  category\n",
      " 16  emp_length         45342 non-null  int64   \n",
      " 17  purpose_           45342 non-null  category\n",
      " 18  home_              45342 non-null  category\n",
      " 19  emp_len_           45342 non-null  category\n",
      " 20  borrower_score     45342 non-null  float64 \n",
      "dtypes: category(4), float64(5), int64(8), object(4)\n",
      "memory usage: 6.1+ MB\n"
     ]
    }
   ],
   "source": [
    "# convert to categorical\n",
    "loan_data.outcome = loan_data.outcome.astype('category')\n",
    "loan_data.outcome.cat.reorder_categories(['paid off', 'default'])\n",
    "loan_data.purpose_ = loan_data.purpose_.astype('category')\n",
    "loan_data.home_ = loan_data.home_.astype('category')\n",
    "loan_data.emp_len_ = loan_data.emp_len_.astype('category')\n",
    "\n",
    "loan_data.info()"
   ]
  },
  {
   "cell_type": "code",
   "execution_count": 4,
   "metadata": {
    "ExecuteTime": {
     "end_time": "2020-08-03T21:45:36.200367Z",
     "start_time": "2020-08-03T21:45:36.126480Z"
    }
   },
   "outputs": [
    {
     "data": {
      "text/html": [
       "<div>\n",
       "<style scoped>\n",
       "    .dataframe tbody tr th:only-of-type {\n",
       "        vertical-align: middle;\n",
       "    }\n",
       "\n",
       "    .dataframe tbody tr th {\n",
       "        vertical-align: top;\n",
       "    }\n",
       "\n",
       "    .dataframe thead th {\n",
       "        text-align: right;\n",
       "    }\n",
       "</style>\n",
       "<table border=\"1\" class=\"dataframe\">\n",
       "  <thead>\n",
       "    <tr style=\"text-align: right;\">\n",
       "      <th></th>\n",
       "      <th>Unnamed: 0</th>\n",
       "      <th>status</th>\n",
       "      <th>loan_amnt</th>\n",
       "      <th>term</th>\n",
       "      <th>annual_inc</th>\n",
       "      <th>dti</th>\n",
       "      <th>payment_inc_ratio</th>\n",
       "      <th>revol_bal</th>\n",
       "      <th>revol_util</th>\n",
       "      <th>purpose</th>\n",
       "      <th>...</th>\n",
       "      <th>delinq_2yrs_zero</th>\n",
       "      <th>pub_rec_zero</th>\n",
       "      <th>open_acc</th>\n",
       "      <th>grade</th>\n",
       "      <th>outcome</th>\n",
       "      <th>emp_length</th>\n",
       "      <th>purpose_</th>\n",
       "      <th>home_</th>\n",
       "      <th>emp_len_</th>\n",
       "      <th>borrower_score</th>\n",
       "    </tr>\n",
       "  </thead>\n",
       "  <tbody>\n",
       "    <tr>\n",
       "      <th>0</th>\n",
       "      <td>1</td>\n",
       "      <td>Charged Off</td>\n",
       "      <td>2500</td>\n",
       "      <td>60 months</td>\n",
       "      <td>30000</td>\n",
       "      <td>1.00</td>\n",
       "      <td>2.39320</td>\n",
       "      <td>1687</td>\n",
       "      <td>9.4</td>\n",
       "      <td>car</td>\n",
       "      <td>...</td>\n",
       "      <td>1</td>\n",
       "      <td>1</td>\n",
       "      <td>3</td>\n",
       "      <td>4.8</td>\n",
       "      <td>default</td>\n",
       "      <td>1</td>\n",
       "      <td>major_purchase</td>\n",
       "      <td>RENT</td>\n",
       "      <td>&gt; 1 Year</td>\n",
       "      <td>0.65</td>\n",
       "    </tr>\n",
       "    <tr>\n",
       "      <th>1</th>\n",
       "      <td>2</td>\n",
       "      <td>Charged Off</td>\n",
       "      <td>5600</td>\n",
       "      <td>60 months</td>\n",
       "      <td>40000</td>\n",
       "      <td>5.55</td>\n",
       "      <td>4.57170</td>\n",
       "      <td>5210</td>\n",
       "      <td>32.6</td>\n",
       "      <td>small_business</td>\n",
       "      <td>...</td>\n",
       "      <td>1</td>\n",
       "      <td>1</td>\n",
       "      <td>11</td>\n",
       "      <td>1.4</td>\n",
       "      <td>default</td>\n",
       "      <td>5</td>\n",
       "      <td>small_business</td>\n",
       "      <td>OWN</td>\n",
       "      <td>&gt; 1 Year</td>\n",
       "      <td>0.80</td>\n",
       "    </tr>\n",
       "    <tr>\n",
       "      <th>2</th>\n",
       "      <td>3</td>\n",
       "      <td>Charged Off</td>\n",
       "      <td>5375</td>\n",
       "      <td>60 months</td>\n",
       "      <td>15000</td>\n",
       "      <td>18.08</td>\n",
       "      <td>9.71600</td>\n",
       "      <td>9279</td>\n",
       "      <td>36.5</td>\n",
       "      <td>other</td>\n",
       "      <td>...</td>\n",
       "      <td>1</td>\n",
       "      <td>1</td>\n",
       "      <td>2</td>\n",
       "      <td>6.0</td>\n",
       "      <td>default</td>\n",
       "      <td>1</td>\n",
       "      <td>other</td>\n",
       "      <td>RENT</td>\n",
       "      <td>&gt; 1 Year</td>\n",
       "      <td>0.60</td>\n",
       "    </tr>\n",
       "    <tr>\n",
       "      <th>3</th>\n",
       "      <td>4</td>\n",
       "      <td>Charged Off</td>\n",
       "      <td>9000</td>\n",
       "      <td>36 months</td>\n",
       "      <td>30000</td>\n",
       "      <td>10.08</td>\n",
       "      <td>12.21520</td>\n",
       "      <td>10452</td>\n",
       "      <td>91.7</td>\n",
       "      <td>debt_consolidation</td>\n",
       "      <td>...</td>\n",
       "      <td>1</td>\n",
       "      <td>1</td>\n",
       "      <td>4</td>\n",
       "      <td>4.2</td>\n",
       "      <td>default</td>\n",
       "      <td>1</td>\n",
       "      <td>debt_consolidation</td>\n",
       "      <td>RENT</td>\n",
       "      <td>&gt; 1 Year</td>\n",
       "      <td>0.50</td>\n",
       "    </tr>\n",
       "    <tr>\n",
       "      <th>4</th>\n",
       "      <td>5</td>\n",
       "      <td>Charged Off</td>\n",
       "      <td>10000</td>\n",
       "      <td>36 months</td>\n",
       "      <td>100000</td>\n",
       "      <td>7.06</td>\n",
       "      <td>3.90888</td>\n",
       "      <td>11997</td>\n",
       "      <td>55.5</td>\n",
       "      <td>other</td>\n",
       "      <td>...</td>\n",
       "      <td>1</td>\n",
       "      <td>1</td>\n",
       "      <td>14</td>\n",
       "      <td>5.4</td>\n",
       "      <td>default</td>\n",
       "      <td>4</td>\n",
       "      <td>other</td>\n",
       "      <td>RENT</td>\n",
       "      <td>&gt; 1 Year</td>\n",
       "      <td>0.55</td>\n",
       "    </tr>\n",
       "  </tbody>\n",
       "</table>\n",
       "<p>5 rows × 21 columns</p>\n",
       "</div>"
      ],
      "text/plain": [
       "   Unnamed: 0       status  loan_amnt       term  annual_inc    dti  \\\n",
       "0           1  Charged Off       2500  60 months       30000   1.00   \n",
       "1           2  Charged Off       5600  60 months       40000   5.55   \n",
       "2           3  Charged Off       5375  60 months       15000  18.08   \n",
       "3           4  Charged Off       9000  36 months       30000  10.08   \n",
       "4           5  Charged Off      10000  36 months      100000   7.06   \n",
       "\n",
       "   payment_inc_ratio  revol_bal  revol_util             purpose  ...  \\\n",
       "0            2.39320       1687         9.4                 car  ...   \n",
       "1            4.57170       5210        32.6      small_business  ...   \n",
       "2            9.71600       9279        36.5               other  ...   \n",
       "3           12.21520      10452        91.7  debt_consolidation  ...   \n",
       "4            3.90888      11997        55.5               other  ...   \n",
       "\n",
       "  delinq_2yrs_zero  pub_rec_zero  open_acc  grade  outcome emp_length  \\\n",
       "0                1             1         3    4.8  default          1   \n",
       "1                1             1        11    1.4  default          5   \n",
       "2                1             1         2    6.0  default          1   \n",
       "3                1             1         4    4.2  default          1   \n",
       "4                1             1        14    5.4  default          4   \n",
       "\n",
       "             purpose_ home_   emp_len_ borrower_score  \n",
       "0      major_purchase  RENT   > 1 Year           0.65  \n",
       "1      small_business   OWN   > 1 Year           0.80  \n",
       "2               other  RENT   > 1 Year           0.60  \n",
       "3  debt_consolidation  RENT   > 1 Year           0.50  \n",
       "4               other  RENT   > 1 Year           0.55  \n",
       "\n",
       "[5 rows x 21 columns]"
      ]
     },
     "execution_count": 4,
     "metadata": {},
     "output_type": "execute_result"
    }
   ],
   "source": [
    "loan_data.head()"
   ]
  },
  {
   "cell_type": "code",
   "execution_count": 9,
   "metadata": {
    "ExecuteTime": {
     "end_time": "2020-08-03T21:47:11.511247Z",
     "start_time": "2020-08-03T21:47:11.501074Z"
    }
   },
   "outputs": [
    {
     "data": {
      "text/plain": [
       "['default', 'paid off']\n",
       "Categories (2, object): ['default', 'paid off']"
      ]
     },
     "execution_count": 9,
     "metadata": {},
     "output_type": "execute_result"
    }
   ],
   "source": [
    "loan_data.outcome.unique()"
   ]
  },
  {
   "cell_type": "code",
   "execution_count": 5,
   "metadata": {
    "ExecuteTime": {
     "end_time": "2020-08-03T21:45:54.684009Z",
     "start_time": "2020-08-03T21:45:54.501532Z"
    }
   },
   "outputs": [
    {
     "name": "stdout",
     "output_type": "stream",
     "text": [
      "predicted class:  default\n"
     ]
    }
   ],
   "source": [
    "predictors = ['purpose_', 'home_', 'emp_len_']\n",
    "outcome = 'outcome'\n",
    "X = pd.get_dummies(loan_data[predictors], prefix='', prefix_sep='')\n",
    "y = loan_data[outcome]\n",
    "\n",
    "naive_model = MultinomialNB(alpha=0.01, fit_prior=True)\n",
    "naive_model.fit(X, y)\n",
    "\n",
    "new_loan = X.loc[146:146, :] \n",
    "print('predicted class: ', naive_model.predict(new_loan)[0])"
   ]
  },
  {
   "cell_type": "code",
   "execution_count": 6,
   "metadata": {
    "ExecuteTime": {
     "end_time": "2020-08-03T21:46:13.685571Z",
     "start_time": "2020-08-03T21:46:13.674108Z"
    }
   },
   "outputs": [
    {
     "name": "stdout",
     "output_type": "stream",
     "text": [
      "predicted probabilities\n",
      "    default  paid off\n",
      "0  0.653696  0.346304\n"
     ]
    }
   ],
   "source": [
    "probabilities = pd.DataFrame(naive_model.predict_proba(new_loan),\n",
    "                             columns=naive_model.classes_)\n",
    "print('predicted probabilities',)\n",
    "print(probabilities)"
   ]
  },
  {
   "cell_type": "markdown",
   "metadata": {},
   "source": [
    "## Discriminant Analysis\n"
   ]
  },
  {
   "cell_type": "code",
   "execution_count": 11,
   "metadata": {
    "ExecuteTime": {
     "end_time": "2020-08-03T21:49:54.141689Z",
     "start_time": "2020-08-03T21:49:54.120199Z"
    }
   },
   "outputs": [
    {
     "name": "stdout",
     "output_type": "stream",
     "text": [
      "<class 'pandas.core.frame.DataFrame'>\n",
      "RangeIndex: 3000 entries, 0 to 2999\n",
      "Data columns (total 6 columns):\n",
      " #   Column             Non-Null Count  Dtype  \n",
      "---  ------             --------------  -----  \n",
      " 0   Unnamed: 0         3000 non-null   int64  \n",
      " 1   outcome            3000 non-null   object \n",
      " 2   purpose_           3000 non-null   object \n",
      " 3   dti                3000 non-null   float64\n",
      " 4   borrower_score     3000 non-null   float64\n",
      " 5   payment_inc_ratio  3000 non-null   float64\n",
      "dtypes: float64(3), int64(1), object(2)\n",
      "memory usage: 140.8+ KB\n"
     ]
    }
   ],
   "source": [
    "loan3000 = pd.read_csv('./Data/loan3000.csv')\n",
    "loan3000.info()"
   ]
  },
  {
   "cell_type": "code",
   "execution_count": 13,
   "metadata": {
    "ExecuteTime": {
     "end_time": "2020-08-03T21:50:13.300873Z",
     "start_time": "2020-08-03T21:50:13.268656Z"
    }
   },
   "outputs": [
    {
     "data": {
      "text/html": [
       "<div>\n",
       "<style scoped>\n",
       "    .dataframe tbody tr th:only-of-type {\n",
       "        vertical-align: middle;\n",
       "    }\n",
       "\n",
       "    .dataframe tbody tr th {\n",
       "        vertical-align: top;\n",
       "    }\n",
       "\n",
       "    .dataframe thead th {\n",
       "        text-align: right;\n",
       "    }\n",
       "</style>\n",
       "<table border=\"1\" class=\"dataframe\">\n",
       "  <thead>\n",
       "    <tr style=\"text-align: right;\">\n",
       "      <th></th>\n",
       "      <th>Unnamed: 0</th>\n",
       "      <th>outcome</th>\n",
       "      <th>purpose_</th>\n",
       "      <th>dti</th>\n",
       "      <th>borrower_score</th>\n",
       "      <th>payment_inc_ratio</th>\n",
       "    </tr>\n",
       "  </thead>\n",
       "  <tbody>\n",
       "    <tr>\n",
       "      <th>0</th>\n",
       "      <td>32109</td>\n",
       "      <td>paid off</td>\n",
       "      <td>debt_consolidation</td>\n",
       "      <td>21.23</td>\n",
       "      <td>0.40</td>\n",
       "      <td>5.11135</td>\n",
       "    </tr>\n",
       "    <tr>\n",
       "      <th>1</th>\n",
       "      <td>16982</td>\n",
       "      <td>default</td>\n",
       "      <td>credit_card</td>\n",
       "      <td>15.49</td>\n",
       "      <td>0.40</td>\n",
       "      <td>5.43165</td>\n",
       "    </tr>\n",
       "    <tr>\n",
       "      <th>2</th>\n",
       "      <td>25335</td>\n",
       "      <td>paid off</td>\n",
       "      <td>debt_consolidation</td>\n",
       "      <td>27.30</td>\n",
       "      <td>0.70</td>\n",
       "      <td>9.23003</td>\n",
       "    </tr>\n",
       "    <tr>\n",
       "      <th>3</th>\n",
       "      <td>34580</td>\n",
       "      <td>paid off</td>\n",
       "      <td>major_purchase</td>\n",
       "      <td>21.11</td>\n",
       "      <td>0.40</td>\n",
       "      <td>2.33482</td>\n",
       "    </tr>\n",
       "    <tr>\n",
       "      <th>4</th>\n",
       "      <td>14424</td>\n",
       "      <td>default</td>\n",
       "      <td>debt_consolidation</td>\n",
       "      <td>16.46</td>\n",
       "      <td>0.45</td>\n",
       "      <td>12.10320</td>\n",
       "    </tr>\n",
       "  </tbody>\n",
       "</table>\n",
       "</div>"
      ],
      "text/plain": [
       "   Unnamed: 0   outcome            purpose_    dti  borrower_score  \\\n",
       "0       32109  paid off  debt_consolidation  21.23            0.40   \n",
       "1       16982   default         credit_card  15.49            0.40   \n",
       "2       25335  paid off  debt_consolidation  27.30            0.70   \n",
       "3       34580  paid off      major_purchase  21.11            0.40   \n",
       "4       14424   default  debt_consolidation  16.46            0.45   \n",
       "\n",
       "   payment_inc_ratio  \n",
       "0            5.11135  \n",
       "1            5.43165  \n",
       "2            9.23003  \n",
       "3            2.33482  \n",
       "4           12.10320  "
      ]
     },
     "execution_count": 13,
     "metadata": {},
     "output_type": "execute_result"
    }
   ],
   "source": [
    "loan3000.head()"
   ]
  },
  {
   "cell_type": "code",
   "execution_count": 14,
   "metadata": {
    "ExecuteTime": {
     "end_time": "2020-08-03T21:50:35.572559Z",
     "start_time": "2020-08-03T21:50:35.564097Z"
    }
   },
   "outputs": [],
   "source": [
    "loan3000.outcome = loan3000.outcome.astype('category')"
   ]
  },
  {
   "cell_type": "code",
   "execution_count": 15,
   "metadata": {
    "ExecuteTime": {
     "end_time": "2020-08-03T21:50:45.432123Z",
     "start_time": "2020-08-03T21:50:45.423666Z"
    }
   },
   "outputs": [],
   "source": [
    "predictors = ['borrower_score', 'payment_inc_ratio']\n",
    "outcome = 'outcome'\n",
    "\n",
    "X = loan3000[predictors]\n",
    "y = loan3000[outcome]"
   ]
  },
  {
   "cell_type": "code",
   "execution_count": 17,
   "metadata": {
    "ExecuteTime": {
     "end_time": "2020-08-03T21:50:59.470014Z",
     "start_time": "2020-08-03T21:50:59.443134Z"
    }
   },
   "outputs": [
    {
     "name": "stdout",
     "output_type": "stream",
     "text": [
      "                          0\n",
      "borrower_score     7.175839\n",
      "payment_inc_ratio -0.099676\n"
     ]
    }
   ],
   "source": [
    "loan_lda = LinearDiscriminantAnalysis()\n",
    "loan_lda.fit(X, y)\n",
    "print(pd.DataFrame(loan_lda.scalings_, index=X.columns))"
   ]
  },
  {
   "cell_type": "code",
   "execution_count": 18,
   "metadata": {
    "ExecuteTime": {
     "end_time": "2020-08-03T21:51:01.249485Z",
     "start_time": "2020-08-03T21:51:01.236597Z"
    }
   },
   "outputs": [
    {
     "name": "stdout",
     "output_type": "stream",
     "text": [
      "    default  paid off\n",
      "0  0.553544  0.446456\n",
      "1  0.558953  0.441047\n",
      "2  0.272696  0.727304\n",
      "3  0.506254  0.493746\n",
      "4  0.609952  0.390048\n"
     ]
    }
   ],
   "source": [
    "pred = pd.DataFrame(loan_lda.predict_proba(loan3000[predictors]),\n",
    "                    columns=loan_lda.classes_)\n",
    "print(pred.head())"
   ]
  },
  {
   "cell_type": "code",
   "execution_count": 19,
   "metadata": {
    "ExecuteTime": {
     "end_time": "2020-08-03T21:51:33.710845Z",
     "start_time": "2020-08-03T21:51:33.702796Z"
    }
   },
   "outputs": [],
   "source": [
    "# Use scalings and center of means to determine decision boundary\n",
    "center = np.mean(loan_lda.means_, axis=0)\n",
    "slope = - loan_lda.scalings_[0] / loan_lda.scalings_[1]\n",
    "intercept = center[1] - center[0] * slope"
   ]
  },
  {
   "cell_type": "code",
   "execution_count": 20,
   "metadata": {
    "ExecuteTime": {
     "end_time": "2020-08-03T21:51:41.376801Z",
     "start_time": "2020-08-03T21:51:41.353750Z"
    }
   },
   "outputs": [
    {
     "data": {
      "text/html": [
       "<div>\n",
       "<style scoped>\n",
       "    .dataframe tbody tr th:only-of-type {\n",
       "        vertical-align: middle;\n",
       "    }\n",
       "\n",
       "    .dataframe tbody tr th {\n",
       "        vertical-align: top;\n",
       "    }\n",
       "\n",
       "    .dataframe thead th {\n",
       "        text-align: right;\n",
       "    }\n",
       "</style>\n",
       "<table border=\"1\" class=\"dataframe\">\n",
       "  <thead>\n",
       "    <tr style=\"text-align: right;\">\n",
       "      <th></th>\n",
       "      <th>Unnamed: 0</th>\n",
       "      <th>outcome</th>\n",
       "      <th>purpose_</th>\n",
       "      <th>dti</th>\n",
       "      <th>borrower_score</th>\n",
       "      <th>payment_inc_ratio</th>\n",
       "      <th>default</th>\n",
       "    </tr>\n",
       "  </thead>\n",
       "  <tbody>\n",
       "    <tr>\n",
       "      <th>0</th>\n",
       "      <td>32109</td>\n",
       "      <td>paid off</td>\n",
       "      <td>debt_consolidation</td>\n",
       "      <td>21.23</td>\n",
       "      <td>0.40</td>\n",
       "      <td>5.11135</td>\n",
       "      <td>0.553544</td>\n",
       "    </tr>\n",
       "    <tr>\n",
       "      <th>1</th>\n",
       "      <td>16982</td>\n",
       "      <td>default</td>\n",
       "      <td>credit_card</td>\n",
       "      <td>15.49</td>\n",
       "      <td>0.40</td>\n",
       "      <td>5.43165</td>\n",
       "      <td>0.558953</td>\n",
       "    </tr>\n",
       "    <tr>\n",
       "      <th>2</th>\n",
       "      <td>25335</td>\n",
       "      <td>paid off</td>\n",
       "      <td>debt_consolidation</td>\n",
       "      <td>27.30</td>\n",
       "      <td>0.70</td>\n",
       "      <td>9.23003</td>\n",
       "      <td>0.272696</td>\n",
       "    </tr>\n",
       "    <tr>\n",
       "      <th>3</th>\n",
       "      <td>34580</td>\n",
       "      <td>paid off</td>\n",
       "      <td>major_purchase</td>\n",
       "      <td>21.11</td>\n",
       "      <td>0.40</td>\n",
       "      <td>2.33482</td>\n",
       "      <td>0.506254</td>\n",
       "    </tr>\n",
       "    <tr>\n",
       "      <th>4</th>\n",
       "      <td>14424</td>\n",
       "      <td>default</td>\n",
       "      <td>debt_consolidation</td>\n",
       "      <td>16.46</td>\n",
       "      <td>0.45</td>\n",
       "      <td>12.10320</td>\n",
       "      <td>0.609952</td>\n",
       "    </tr>\n",
       "  </tbody>\n",
       "</table>\n",
       "</div>"
      ],
      "text/plain": [
       "   Unnamed: 0   outcome            purpose_    dti  borrower_score  \\\n",
       "0       32109  paid off  debt_consolidation  21.23            0.40   \n",
       "1       16982   default         credit_card  15.49            0.40   \n",
       "2       25335  paid off  debt_consolidation  27.30            0.70   \n",
       "3       34580  paid off      major_purchase  21.11            0.40   \n",
       "4       14424   default  debt_consolidation  16.46            0.45   \n",
       "\n",
       "   payment_inc_ratio   default  \n",
       "0            5.11135  0.553544  \n",
       "1            5.43165  0.558953  \n",
       "2            9.23003  0.272696  \n",
       "3            2.33482  0.506254  \n",
       "4           12.10320  0.609952  "
      ]
     },
     "execution_count": 20,
     "metadata": {},
     "output_type": "execute_result"
    }
   ],
   "source": [
    "# payment_inc_ratio for borrower_score of 0 and 20\n",
    "x_0 = (0 - intercept) / slope\n",
    "x_20 = (20 - intercept) / slope\n",
    "\n",
    "lda_df = pd.concat([loan3000, pred['default']], axis=1)\n",
    "lda_df.head()"
   ]
  },
  {
   "cell_type": "code",
   "execution_count": 22,
   "metadata": {
    "ExecuteTime": {
     "end_time": "2020-08-03T21:52:18.915992Z",
     "start_time": "2020-08-03T21:52:18.528446Z"
    }
   },
   "outputs": [
    {
     "data": {
      "image/png": "[encoded data removed]",
      "text/plain": [
       "<Figure size 360x360 with 1 Axes>"
      ]
     },
     "metadata": {
      "needs_background": "dark"
     },
     "output_type": "display_data"
    }
   ],
   "source": [
    "fig, ax = plt.subplots(figsize=(5, 5))\n",
    "g = sns.scatterplot(x='borrower_score', y='payment_inc_ratio',\n",
    "                    hue='default', data=lda_df, \n",
    "                    palette=sns.diverging_palette(240, 10, n=9, as_cmap=True),\n",
    "                    ax=ax, legend=False)\n",
    "\n",
    "ax.set_ylim(0, 20)\n",
    "ax.set_xlim(0.15, 0.8)\n",
    "ax.plot((x_0, x_20), (0, 20), linewidth=3)\n",
    "ax.plot(*loan_lda.means_.transpose())\n",
    "\n",
    "plt.tight_layout()\n",
    "plt.show()"
   ]
  },
  {
   "cell_type": "markdown",
   "metadata": {},
   "source": [
    "## Logistic regression\n"
   ]
  },
  {
   "cell_type": "code",
   "execution_count": 24,
   "metadata": {
    "ExecuteTime": {
     "end_time": "2020-08-03T21:52:48.847568Z",
     "start_time": "2020-08-03T21:52:48.830820Z"
    }
   },
   "outputs": [
    {
     "data": {
      "text/html": [
       "<div>\n",
       "<style scoped>\n",
       "    .dataframe tbody tr th:only-of-type {\n",
       "        vertical-align: middle;\n",
       "    }\n",
       "\n",
       "    .dataframe tbody tr th {\n",
       "        vertical-align: top;\n",
       "    }\n",
       "\n",
       "    .dataframe thead th {\n",
       "        text-align: right;\n",
       "    }\n",
       "</style>\n",
       "<table border=\"1\" class=\"dataframe\">\n",
       "  <thead>\n",
       "    <tr style=\"text-align: right;\">\n",
       "      <th></th>\n",
       "      <th>p</th>\n",
       "      <th>logit</th>\n",
       "      <th>odds</th>\n",
       "    </tr>\n",
       "  </thead>\n",
       "  <tbody>\n",
       "    <tr>\n",
       "      <th>0</th>\n",
       "      <td>0.01</td>\n",
       "      <td>-4.595120</td>\n",
       "      <td>0.010101</td>\n",
       "    </tr>\n",
       "    <tr>\n",
       "      <th>1</th>\n",
       "      <td>0.02</td>\n",
       "      <td>-3.891820</td>\n",
       "      <td>0.020408</td>\n",
       "    </tr>\n",
       "    <tr>\n",
       "      <th>2</th>\n",
       "      <td>0.03</td>\n",
       "      <td>-3.476099</td>\n",
       "      <td>0.030928</td>\n",
       "    </tr>\n",
       "    <tr>\n",
       "      <th>3</th>\n",
       "      <td>0.04</td>\n",
       "      <td>-3.178054</td>\n",
       "      <td>0.041667</td>\n",
       "    </tr>\n",
       "    <tr>\n",
       "      <th>4</th>\n",
       "      <td>0.05</td>\n",
       "      <td>-2.944439</td>\n",
       "      <td>0.052632</td>\n",
       "    </tr>\n",
       "  </tbody>\n",
       "</table>\n",
       "</div>"
      ],
      "text/plain": [
       "      p     logit      odds\n",
       "0  0.01 -4.595120  0.010101\n",
       "1  0.02 -3.891820  0.020408\n",
       "2  0.03 -3.476099  0.030928\n",
       "3  0.04 -3.178054  0.041667\n",
       "4  0.05 -2.944439  0.052632"
      ]
     },
     "execution_count": 24,
     "metadata": {},
     "output_type": "execute_result"
    }
   ],
   "source": [
    "### Logistic Response Function and Logit\n",
    "\n",
    "p = np.arange(0.01, 1, 0.01)\n",
    "df = pd.DataFrame({\n",
    "    'p': p,\n",
    "    'logit': np.log(p / (1 - p)),\n",
    "    'odds': p / (1 - p),\n",
    "})\n",
    "df.head()"
   ]
  },
  {
   "cell_type": "code",
   "execution_count": 25,
   "metadata": {
    "ExecuteTime": {
     "end_time": "2020-08-03T21:52:57.347625Z",
     "start_time": "2020-08-03T21:52:57.114095Z"
    }
   },
   "outputs": [
    {
     "data": {
      "image/png": "[encoded data removed]",
      "text/plain": [
       "<Figure size 216x216 with 1 Axes>"
      ]
     },
     "metadata": {
      "needs_background": "dark"
     },
     "output_type": "display_data"
    }
   ],
   "source": [
    "fig, ax = plt.subplots(figsize=(3, 3))\n",
    "ax.axhline(0, color='grey', linestyle='--')\n",
    "ax.axvline(0.5, color='grey', linestyle='--')\n",
    "ax.plot(df['p'], df['logit'])\n",
    "ax.set_xlabel('Probability')\n",
    "ax.set_ylabel('logit(p)')\n",
    "\n",
    "plt.tight_layout()\n",
    "plt.show()"
   ]
  },
  {
   "cell_type": "code",
   "execution_count": 26,
   "metadata": {
    "ExecuteTime": {
     "end_time": "2020-08-03T21:53:16.905266Z",
     "start_time": "2020-08-03T21:53:16.682185Z"
    }
   },
   "outputs": [
    {
     "name": "stdout",
     "output_type": "stream",
     "text": [
      "intercept  -1.6378908225968347\n",
      "classes ['default' 'paid off']\n"
     ]
    }
   ],
   "source": [
    "### Logistic Regression and the GLM\n",
    "# The package _scikit-learn_ has a specialised class for `LogisticRegression`. _Statsmodels_ has a more general method based on generalized linear model (GLM).\n",
    "\n",
    "predictors = ['payment_inc_ratio', 'purpose_', 'home_', 'emp_len_', \n",
    "              'borrower_score']\n",
    "outcome = 'outcome'\n",
    "X = pd.get_dummies(loan_data[predictors], prefix='', prefix_sep='', \n",
    "                   drop_first=True)\n",
    "y = loan_data[outcome] # .cat.categories\n",
    "\n",
    "logit_reg = LogisticRegression(penalty='l2', C=1e42, solver='liblinear')\n",
    "logit_reg.fit(X, y)\n",
    "\n",
    "print('intercept ', logit_reg.intercept_[0])\n",
    "print('classes', logit_reg.classes_)"
   ]
  },
  {
   "cell_type": "code",
   "execution_count": 27,
   "metadata": {
    "ExecuteTime": {
     "end_time": "2020-08-03T21:53:26.411131Z",
     "start_time": "2020-08-03T21:53:26.394305Z"
    }
   },
   "outputs": [
    {
     "data": {
      "text/html": [
       "<div>\n",
       "<style scoped>\n",
       "    .dataframe tbody tr th:only-of-type {\n",
       "        vertical-align: middle;\n",
       "    }\n",
       "\n",
       "    .dataframe tbody tr th {\n",
       "        vertical-align: top;\n",
       "    }\n",
       "\n",
       "    .dataframe thead th {\n",
       "        text-align: right;\n",
       "    }\n",
       "</style>\n",
       "<table border=\"1\" class=\"dataframe\">\n",
       "  <thead>\n",
       "    <tr style=\"text-align: right;\">\n",
       "      <th></th>\n",
       "      <th>coeff</th>\n",
       "    </tr>\n",
       "  </thead>\n",
       "  <tbody>\n",
       "    <tr>\n",
       "      <th>payment_inc_ratio</th>\n",
       "      <td>-0.079739</td>\n",
       "    </tr>\n",
       "    <tr>\n",
       "      <th>borrower_score</th>\n",
       "      <td>4.612183</td>\n",
       "    </tr>\n",
       "    <tr>\n",
       "      <th>debt_consolidation</th>\n",
       "      <td>-0.249414</td>\n",
       "    </tr>\n",
       "    <tr>\n",
       "      <th>home_improvement</th>\n",
       "      <td>-0.407734</td>\n",
       "    </tr>\n",
       "    <tr>\n",
       "      <th>major_purchase</th>\n",
       "      <td>-0.229710</td>\n",
       "    </tr>\n",
       "    <tr>\n",
       "      <th>medical</th>\n",
       "      <td>-0.510744</td>\n",
       "    </tr>\n",
       "    <tr>\n",
       "      <th>other</th>\n",
       "      <td>-0.620800</td>\n",
       "    </tr>\n",
       "    <tr>\n",
       "      <th>small_business</th>\n",
       "      <td>-1.214936</td>\n",
       "    </tr>\n",
       "    <tr>\n",
       "      <th>OWN</th>\n",
       "      <td>-0.048211</td>\n",
       "    </tr>\n",
       "    <tr>\n",
       "      <th>RENT</th>\n",
       "      <td>-0.157288</td>\n",
       "    </tr>\n",
       "    <tr>\n",
       "      <th>&gt; 1 Year</th>\n",
       "      <td>0.356794</td>\n",
       "    </tr>\n",
       "  </tbody>\n",
       "</table>\n",
       "</div>"
      ],
      "text/plain": [
       "                       coeff\n",
       "payment_inc_ratio  -0.079739\n",
       "borrower_score      4.612183\n",
       "debt_consolidation -0.249414\n",
       "home_improvement   -0.407734\n",
       "major_purchase     -0.229710\n",
       "medical            -0.510744\n",
       "other              -0.620800\n",
       "small_business     -1.214936\n",
       "OWN                -0.048211\n",
       "RENT               -0.157288\n",
       " > 1 Year           0.356794"
      ]
     },
     "execution_count": 27,
     "metadata": {},
     "output_type": "execute_result"
    }
   ],
   "source": [
    "pd.DataFrame({'coeff': logit_reg.coef_[0]}, \n",
    "             index=X.columns)"
   ]
  },
  {
   "cell_type": "code",
   "execution_count": 28,
   "metadata": {
    "ExecuteTime": {
     "end_time": "2020-08-03T21:54:31.254210Z",
     "start_time": "2020-08-03T21:54:31.246318Z"
    }
   },
   "outputs": [
    {
     "name": "stdout",
     "output_type": "stream",
     "text": [
      "Index(['credit_card', 'debt_consolidation', 'home_improvement',\n",
      "       'major_purchase', 'medical', 'other', 'small_business'],\n",
      "      dtype='object')\n",
      "Index(['MORTGAGE', 'OWN', 'RENT'], dtype='object')\n",
      "Index([' < 1 Year', ' > 1 Year'], dtype='object')\n"
     ]
    }
   ],
   "source": [
    "# Note that the intercept and coefficients are reversed compared to the R model.\n",
    "\n",
    "print(loan_data['purpose_'].cat.categories)\n",
    "print(loan_data['home_'].cat.categories)\n",
    "print(loan_data['emp_len_'].cat.categories)"
   ]
  },
  {
   "cell_type": "code",
   "execution_count": 29,
   "metadata": {
    "ExecuteTime": {
     "end_time": "2020-08-03T21:55:05.211045Z",
     "start_time": "2020-08-03T21:55:05.077281Z"
    }
   },
   "outputs": [
    {
     "name": "stdout",
     "output_type": "stream",
     "text": [
      "intercept  1.638088330002395\n",
      "classes [0. 1.]\n"
     ]
    }
   ],
   "source": [
    "# _Not in book_ :\n",
    "# If you have a feature or outcome variable that is ordinal, use the scikit-learn `OrdinalEncoder` to replace the categories (here, 'paid off' and 'default') with numbers. In the below code, we replace 'paid off' with 0 and 'default' with 1. This reverses the order of the predicted classes and as a consequence, the coefficients will be reversed.\n",
    "\n",
    "from sklearn.preprocessing import OrdinalEncoder\n",
    "enc = OrdinalEncoder(categories=[['paid off', 'default']])\n",
    "y_enc = enc.fit_transform(loan_data[[outcome]]).ravel()\n",
    "\n",
    "logit_reg_enc = LogisticRegression(penalty=\"l2\", C=1e42, solver='liblinear')\n",
    "logit_reg_enc.fit(X, y_enc)\n",
    "\n",
    "print('intercept ', logit_reg_enc.intercept_[0])\n",
    "print('classes', logit_reg_enc.classes_)"
   ]
  },
  {
   "cell_type": "code",
   "execution_count": 30,
   "metadata": {
    "ExecuteTime": {
     "end_time": "2020-08-03T21:55:15.164979Z",
     "start_time": "2020-08-03T21:55:15.150437Z"
    }
   },
   "outputs": [
    {
     "data": {
      "text/html": [
       "<div>\n",
       "<style scoped>\n",
       "    .dataframe tbody tr th:only-of-type {\n",
       "        vertical-align: middle;\n",
       "    }\n",
       "\n",
       "    .dataframe tbody tr th {\n",
       "        vertical-align: top;\n",
       "    }\n",
       "\n",
       "    .dataframe thead th {\n",
       "        text-align: right;\n",
       "    }\n",
       "</style>\n",
       "<table border=\"1\" class=\"dataframe\">\n",
       "  <thead>\n",
       "    <tr style=\"text-align: right;\">\n",
       "      <th></th>\n",
       "      <th>coeff</th>\n",
       "    </tr>\n",
       "  </thead>\n",
       "  <tbody>\n",
       "    <tr>\n",
       "      <th>payment_inc_ratio</th>\n",
       "      <td>0.079728</td>\n",
       "    </tr>\n",
       "    <tr>\n",
       "      <th>borrower_score</th>\n",
       "      <td>-4.611037</td>\n",
       "    </tr>\n",
       "    <tr>\n",
       "      <th>debt_consolidation</th>\n",
       "      <td>0.249342</td>\n",
       "    </tr>\n",
       "    <tr>\n",
       "      <th>home_improvement</th>\n",
       "      <td>0.407614</td>\n",
       "    </tr>\n",
       "    <tr>\n",
       "      <th>major_purchase</th>\n",
       "      <td>0.229376</td>\n",
       "    </tr>\n",
       "    <tr>\n",
       "      <th>medical</th>\n",
       "      <td>0.510087</td>\n",
       "    </tr>\n",
       "    <tr>\n",
       "      <th>other</th>\n",
       "      <td>0.620534</td>\n",
       "    </tr>\n",
       "    <tr>\n",
       "      <th>small_business</th>\n",
       "      <td>1.215662</td>\n",
       "    </tr>\n",
       "    <tr>\n",
       "      <th>OWN</th>\n",
       "      <td>0.048453</td>\n",
       "    </tr>\n",
       "    <tr>\n",
       "      <th>RENT</th>\n",
       "      <td>0.157355</td>\n",
       "    </tr>\n",
       "    <tr>\n",
       "      <th>&gt; 1 Year</th>\n",
       "      <td>-0.357463</td>\n",
       "    </tr>\n",
       "  </tbody>\n",
       "</table>\n",
       "</div>"
      ],
      "text/plain": [
       "                       coeff\n",
       "payment_inc_ratio   0.079728\n",
       "borrower_score     -4.611037\n",
       "debt_consolidation  0.249342\n",
       "home_improvement    0.407614\n",
       "major_purchase      0.229376\n",
       "medical             0.510087\n",
       "other               0.620534\n",
       "small_business      1.215662\n",
       "OWN                 0.048453\n",
       "RENT                0.157355\n",
       " > 1 Year          -0.357463"
      ]
     },
     "execution_count": 30,
     "metadata": {},
     "output_type": "execute_result"
    }
   ],
   "source": [
    "pd.DataFrame({'coeff': logit_reg_enc.coef_[0]}, \n",
    "             index=X.columns)"
   ]
  },
  {
   "cell_type": "code",
   "execution_count": 31,
   "metadata": {
    "ExecuteTime": {
     "end_time": "2020-08-03T21:55:36.261280Z",
     "start_time": "2020-08-03T21:55:36.228750Z"
    }
   },
   "outputs": [
    {
     "name": "stdout",
     "output_type": "stream",
     "text": [
      "            default      paid off\n",
      "count  45342.000000  45342.000000\n",
      "mean      -0.757872     -0.760434\n",
      "std        0.378093      0.390456\n",
      "min       -2.769376     -3.538593\n",
      "25%       -0.985739     -0.977207\n",
      "50%       -0.697406     -0.688907\n",
      "75%       -0.472183     -0.467069\n",
      "max       -0.029485     -0.064753\n"
     ]
    }
   ],
   "source": [
    "### Predicted Values from Logistic Regression\n",
    "\n",
    "pred = pd.DataFrame(logit_reg.predict_log_proba(X),\n",
    "                    columns=logit_reg.classes_)\n",
    "print(pred.describe())"
   ]
  },
  {
   "cell_type": "code",
   "execution_count": 32,
   "metadata": {
    "ExecuteTime": {
     "end_time": "2020-08-03T21:55:57.061210Z",
     "start_time": "2020-08-03T21:55:57.021512Z"
    }
   },
   "outputs": [
    {
     "name": "stdout",
     "output_type": "stream",
     "text": [
      "            default      paid off\n",
      "count  45342.000000  45342.000000\n",
      "mean       0.500000      0.500000\n",
      "std        0.167354      0.167354\n",
      "min        0.062701      0.029054\n",
      "25%        0.373163      0.376361\n",
      "50%        0.497875      0.502125\n",
      "75%        0.623639      0.626837\n",
      "max        0.970946      0.937299\n"
     ]
    }
   ],
   "source": [
    "pred = pd.DataFrame(logit_reg.predict_proba(X),\n",
    "                    columns=logit_reg.classes_)\n",
    "print(pred.describe())"
   ]
  },
  {
   "cell_type": "code",
   "execution_count": 33,
   "metadata": {
    "ExecuteTime": {
     "end_time": "2020-08-03T21:56:17.123795Z",
     "start_time": "2020-08-03T21:56:16.903552Z"
    }
   },
   "outputs": [
    {
     "data": {
      "image/png": "[encoded data removed]",
      "text/plain": [
       "<Figure size 216x216 with 1 Axes>"
      ]
     },
     "metadata": {
      "needs_background": "dark"
     },
     "output_type": "display_data"
    }
   ],
   "source": [
    "### Interpreting the Coefficients and Odds Ratios\n",
    "\n",
    "fig, ax = plt.subplots(figsize=(3, 3))\n",
    "ax.plot(df['logit'], df['odds'])\n",
    "ax.set_xlabel('log(odds ratio)')\n",
    "ax.set_ylabel('odds ratio')\n",
    "ax.set_xlim(0, 5.1)\n",
    "ax.set_ylim(-5, 105)\n",
    "\n",
    "plt.tight_layout()\n",
    "plt.show()"
   ]
  },
  {
   "cell_type": "markdown",
   "metadata": {},
   "source": [
    "## Assessing the Model"
   ]
  },
  {
   "cell_type": "code",
   "execution_count": 34,
   "metadata": {
    "ExecuteTime": {
     "end_time": "2020-08-03T21:56:42.321353Z",
     "start_time": "2020-08-03T21:56:42.092153Z"
    }
   },
   "outputs": [
    {
     "name": "stdout",
     "output_type": "stream",
     "text": [
      "                 Generalized Linear Model Regression Results                  \n",
      "==============================================================================\n",
      "Dep. Variable:                      y   No. Observations:                45342\n",
      "Model:                            GLM   Df Residuals:                    45330\n",
      "Model Family:                Binomial   Df Model:                           11\n",
      "Link Function:                  logit   Scale:                          1.0000\n",
      "Method:                          IRLS   Log-Likelihood:                -28757.\n",
      "Date:                Mon, 03 Aug 2020   Deviance:                       57515.\n",
      "Time:                        16:56:42   Pearson chi2:                 4.54e+04\n",
      "No. Iterations:                     4                                         \n",
      "Covariance Type:            nonrobust                                         \n",
      "======================================================================================\n",
      "                         coef    std err          z      P>|z|      [0.025      0.975]\n",
      "--------------------------------------------------------------------------------------\n",
      "payment_inc_ratio      0.0797      0.002     32.058      0.000       0.075       0.085\n",
      "borrower_score        -4.6126      0.084    -55.203      0.000      -4.776      -4.449\n",
      "debt_consolidation     0.2494      0.028      9.030      0.000       0.195       0.303\n",
      "home_improvement       0.4077      0.047      8.747      0.000       0.316       0.499\n",
      "major_purchase         0.2296      0.054      4.277      0.000       0.124       0.335\n",
      "medical                0.5105      0.087      5.882      0.000       0.340       0.681\n",
      "other                  0.6207      0.039     15.738      0.000       0.543       0.698\n",
      "small_business         1.2153      0.063     19.192      0.000       1.091       1.339\n",
      "OWN                    0.0483      0.038      1.271      0.204      -0.026       0.123\n",
      "RENT                   0.1573      0.021      7.420      0.000       0.116       0.199\n",
      " > 1 Year             -0.3567      0.053     -6.779      0.000      -0.460      -0.254\n",
      "const                  1.6381      0.074     22.224      0.000       1.494       1.783\n",
      "======================================================================================\n"
     ]
    }
   ],
   "source": [
    "# For comparison, here the GLM model using _statsmodels_. This method requires that the outcome is mapped to numbers.\n",
    "\n",
    "# use GLM (general linear model) with the binomial family to \n",
    "# fit a logistic regression\n",
    "y_numbers = [1 if yi == 'default' else 0 for yi in y]\n",
    "logit_reg_sm = sm.GLM(y_numbers, X.assign(const=1), \n",
    "                      family=sm.families.Binomial())\n",
    "logit_result = logit_reg_sm.fit()\n",
    "print(logit_result.summary())"
   ]
  },
  {
   "cell_type": "code",
   "execution_count": 35,
   "metadata": {
    "ExecuteTime": {
     "end_time": "2020-08-03T21:57:07.977200Z",
     "start_time": "2020-08-03T21:57:07.291626Z"
    }
   },
   "outputs": [
    {
     "name": "stdout",
     "output_type": "stream",
     "text": [
      "                             Generalized Linear Model Regression Results                             \n",
      "=====================================================================================================\n",
      "Dep. Variable:     ['outcome[default]', 'outcome[paid off]']   No. Observations:                45342\n",
      "Model:                                                   GLM   Df Residuals:                    45321\n",
      "Model Family:                                       Binomial   Df Model:                           20\n",
      "Link Function:                                         logit   Scale:                          1.0000\n",
      "Method:                                                 IRLS   Log-Likelihood:                -28731.\n",
      "Date:                                       Mon, 03 Aug 2020   Deviance:                       57462.\n",
      "Time:                                               16:57:07   Pearson chi2:                 4.54e+04\n",
      "No. Iterations:                                            6                                         \n",
      "Covariance Type:                                   nonrobust                                         \n",
      "==================================================================================================\n",
      "                                     coef    std err          z      P>|z|      [0.025      0.975]\n",
      "--------------------------------------------------------------------------------------------------\n",
      "Intercept                          1.5756      0.331      4.765      0.000       0.928       2.224\n",
      "purpose_[T.debt_consolidation]     0.2486      0.028      8.998      0.000       0.194       0.303\n",
      "purpose_[T.home_improvement]       0.4097      0.047      8.757      0.000       0.318       0.501\n",
      "purpose_[T.major_purchase]         0.2382      0.054      4.416      0.000       0.132       0.344\n",
      "purpose_[T.medical]                0.5206      0.087      5.980      0.000       0.350       0.691\n",
      "purpose_[T.other]                  0.6284      0.040     15.781      0.000       0.550       0.706\n",
      "purpose_[T.small_business]         1.2250      0.063     19.305      0.000       1.101       1.349\n",
      "home_[T.OWN]                       0.0498      0.038      1.309      0.191      -0.025       0.124\n",
      "home_[T.RENT]                      0.1577      0.021      7.431      0.000       0.116       0.199\n",
      "emp_len_[T. > 1 Year]             -0.3526      0.053     -6.699      0.000      -0.456      -0.249\n",
      "bs(payment_inc_ratio, df=8)[0]     0.7042      0.342      2.060      0.039       0.034       1.374\n",
      "bs(payment_inc_ratio, df=8)[1]     0.6621      0.198      3.351      0.001       0.275       1.049\n",
      "bs(payment_inc_ratio, df=8)[2]     0.8118      0.245      3.309      0.001       0.331       1.293\n",
      "bs(payment_inc_ratio, df=8)[3]     1.0377      0.223      4.644      0.000       0.600       1.476\n",
      "bs(payment_inc_ratio, df=8)[4]     1.1901      0.233      5.112      0.000       0.734       1.646\n",
      "bs(payment_inc_ratio, df=8)[5]     2.8404      0.316      8.980      0.000       2.220       3.460\n",
      "bs(payment_inc_ratio, df=8)[6]    -1.3427      1.229     -1.092      0.275      -3.752       1.067\n",
      "bs(payment_inc_ratio, df=8)[7]     7.1094      6.393      1.112      0.266      -5.420      19.639\n",
      "bs(borrower_score, df=3)[0]       -2.9011      0.533     -5.448      0.000      -3.945      -1.857\n",
      "bs(borrower_score, df=3)[1]       -2.6056      0.196    -13.284      0.000      -2.990      -2.221\n",
      "bs(borrower_score, df=3)[2]       -5.7421      0.508    -11.313      0.000      -6.737      -4.747\n",
      "==================================================================================================\n"
     ]
    }
   ],
   "source": [
    "# Use splines\n",
    "\n",
    "import statsmodels.formula.api as smf\n",
    "formula = ('outcome ~ bs(payment_inc_ratio, df=8) + purpose_ + ' +\n",
    "           'home_ + emp_len_ + bs(borrower_score, df=3)')\n",
    "model = smf.glm(formula=formula, data=loan_data, family=sm.families.Binomial())\n",
    "results = model.fit()\n",
    "print(results.summary())"
   ]
  },
  {
   "cell_type": "code",
   "execution_count": 37,
   "metadata": {
    "ExecuteTime": {
     "end_time": "2020-08-03T21:57:30.748214Z",
     "start_time": "2020-08-03T21:57:29.975232Z"
    }
   },
   "outputs": [
    {
     "data": {
      "image/png": "[encoded data removed]",
      "text/plain": [
       "<Figure size 360x360 with 1 Axes>"
      ]
     },
     "metadata": {
      "needs_background": "dark"
     },
     "output_type": "display_data"
    }
   ],
   "source": [
    "from statsmodels.genmod.generalized_linear_model import GLMResults\n",
    "def partialResidualPlot(model, df, outcome, feature, fig, ax):\n",
    "    y_actual = [0 if s == 'default' else 1 for s in df[outcome]]\n",
    "    y_pred = model.predict(df)\n",
    "    org_params = model.params.copy()\n",
    "    zero_params = model.params.copy()\n",
    "    # set model parametes of other features to 0\n",
    "    for i, name in enumerate(zero_params.index):\n",
    "        if feature in name:\n",
    "            continue\n",
    "        zero_params[i] = 0.0\n",
    "    model.initialize(model.model, zero_params)\n",
    "    feature_prediction = model.predict(df)\n",
    "    ypartial = -np.log(1/feature_prediction - 1)\n",
    "    ypartial = ypartial - np.mean(ypartial)\n",
    "    model.initialize(model.model, org_params)\n",
    "    results = pd.DataFrame({\n",
    "        'feature': df[feature],\n",
    "        'residual': -2 * (y_actual - y_pred),\n",
    "        'ypartial': ypartial/ 2,\n",
    "    })\n",
    "    results = results.sort_values(by=['feature'])\n",
    "\n",
    "    ax.scatter(results.feature, results.residual, marker=\".\", s=72./fig.dpi)\n",
    "    ax.plot(results.feature, results.ypartial, color='black')\n",
    "    ax.set_xlabel(feature)\n",
    "    ax.set_ylabel(f'Residual + {feature} contribution')\n",
    "    return ax\n",
    "\n",
    "fig, ax = plt.subplots(figsize=(5, 5))\n",
    "partialResidualPlot(results, loan_data, 'outcome', 'payment_inc_ratio', fig, ax)\n",
    "ax.set_xlim(0, 25)\n",
    "ax.set_ylim(-2.5, 2.5)\n",
    "\n",
    "\n",
    "plt.tight_layout()\n",
    "plt.show()"
   ]
  },
  {
   "cell_type": "markdown",
   "metadata": {},
   "source": [
    "## Evaluating Classification Models\n"
   ]
  },
  {
   "cell_type": "code",
   "execution_count": 39,
   "metadata": {
    "ExecuteTime": {
     "end_time": "2020-08-03T21:58:01.266359Z",
     "start_time": "2020-08-03T21:58:01.226372Z"
    }
   },
   "outputs": [
    {
     "name": "stdout",
     "output_type": "stream",
     "text": [
      "              Yhat = default  Yhat = paid off\n",
      "Y = default            14337             8334\n",
      "Y = paid off            8149            14522\n"
     ]
    }
   ],
   "source": [
    "# Confusion matrix\n",
    "pred = logit_reg.predict(X)\n",
    "pred_y = logit_reg.predict(X) == 'default'\n",
    "true_y = y == 'default'\n",
    "true_pos = true_y & pred_y\n",
    "true_neg = ~true_y & ~pred_y\n",
    "false_pos = ~true_y & pred_y\n",
    "false_neg = true_y & ~pred_y\n",
    "\n",
    "conf_mat = pd.DataFrame([[np.sum(true_pos), np.sum(false_neg)], [np.sum(false_pos), np.sum(true_neg)]],\n",
    "                       index=['Y = default', 'Y = paid off'],\n",
    "                       columns=['Yhat = default', 'Yhat = paid off'])\n",
    "print(conf_mat)"
   ]
  },
  {
   "cell_type": "code",
   "execution_count": 40,
   "metadata": {
    "ExecuteTime": {
     "end_time": "2020-08-03T21:58:16.736640Z",
     "start_time": "2020-08-03T21:58:16.458024Z"
    }
   },
   "outputs": [
    {
     "name": "stdout",
     "output_type": "stream",
     "text": [
      "[[14337  8334]\n",
      " [ 8149 14522]]\n"
     ]
    }
   ],
   "source": [
    "print(confusion_matrix(y, logit_reg.predict(X)))"
   ]
  },
  {
   "cell_type": "code",
   "execution_count": 41,
   "metadata": {
    "ExecuteTime": {
     "end_time": "2020-08-03T21:58:32.787312Z",
     "start_time": "2020-08-03T21:58:32.416529Z"
    }
   },
   "outputs": [
    {
     "name": "stdout",
     "output_type": "stream",
     "text": [
      "Confusion Matrix (Accuracy 0.6365)\n",
      "\n",
      "         Prediction\n",
      "  Actual  default paid off\n",
      " default    14337     8334\n",
      "paid off     8149    14522\n"
     ]
    }
   ],
   "source": [
    "# The package _dmba_ contains the function `classificationSummary` that prints confusion matrix and accuracy for a classification model.\n",
    "\n",
    "classificationSummary(y, logit_reg.predict(X), \n",
    "                      class_names=logit_reg.classes_)"
   ]
  },
  {
   "cell_type": "code",
   "execution_count": 42,
   "metadata": {
    "ExecuteTime": {
     "end_time": "2020-08-03T21:58:50.611283Z",
     "start_time": "2020-08-03T21:58:50.328646Z"
    }
   },
   "outputs": [
    {
     "name": "stdout",
     "output_type": "stream",
     "text": [
      "Precision 0.6375967268522637\n",
      "Recall 0.6323938070662961\n",
      "Specificity 0.640554011733051\n"
     ]
    }
   ],
   "source": [
    "### Precision, Recall, and Specificity\n",
    "# The _scikit-learn_ function `precision_recall_fscore_support` returns\n",
    "# precision, recall, fbeta_score and support.\n",
    "\n",
    "conf_mat = confusion_matrix(y, logit_reg.predict(X))\n",
    "print('Precision', conf_mat[0, 0] / sum(conf_mat[:, 0]))\n",
    "print('Recall', conf_mat[0, 0] / sum(conf_mat[0, :]))\n",
    "print('Specificity', conf_mat[1, 1] / sum(conf_mat[1, :]))"
   ]
  },
  {
   "cell_type": "code",
   "execution_count": 43,
   "metadata": {
    "ExecuteTime": {
     "end_time": "2020-08-03T21:58:59.198503Z",
     "start_time": "2020-08-03T21:58:58.714596Z"
    }
   },
   "outputs": [
    {
     "data": {
      "text/plain": [
       "(array([0.63759673, 0.63536927]),\n",
       " array([0.63239381, 0.64055401]),\n",
       " array([0.63498461, 0.63795111]),\n",
       " array([22671, 22671]))"
      ]
     },
     "execution_count": 43,
     "metadata": {},
     "output_type": "execute_result"
    }
   ],
   "source": [
    "precision_recall_fscore_support(y, logit_reg.predict(X), \n",
    "                                labels=['default', 'paid off'])"
   ]
  },
  {
   "cell_type": "markdown",
   "metadata": {},
   "source": [
    "## ROC Curve"
   ]
  },
  {
   "cell_type": "code",
   "execution_count": 44,
   "metadata": {
    "ExecuteTime": {
     "end_time": "2020-08-03T21:59:30.980351Z",
     "start_time": "2020-08-03T21:59:30.624306Z"
    }
   },
   "outputs": [
    {
     "data": {
      "image/png": "[encoded data removed]",
      "text/plain": [
       "<Figure size 288x288 with 1 Axes>"
      ]
     },
     "metadata": {
      "needs_background": "dark"
     },
     "output_type": "display_data"
    }
   ],
   "source": [
    "# The function `roc_curve` in _Scikit-learn_ calculates all the information that is required for plotting a ROC curve.\n",
    "\n",
    "fpr, tpr, thresholds = roc_curve(y, logit_reg.predict_proba(X)[:, 0], \n",
    "                                 pos_label='default')\n",
    "roc_df = pd.DataFrame({'recall': tpr, 'specificity': 1 - fpr})\n",
    "\n",
    "ax = roc_df.plot(x='specificity', y='recall', figsize=(4, 4), legend=False)\n",
    "ax.set_ylim(0, 1)\n",
    "ax.set_xlim(1, 0)\n",
    "ax.plot((1, 0), (0, 1))\n",
    "ax.set_xlabel('specificity')\n",
    "ax.set_ylabel('recall')\n",
    "\n",
    "\n",
    "plt.tight_layout()\n",
    "plt.show()"
   ]
  },
  {
   "cell_type": "markdown",
   "metadata": {},
   "source": [
    "## AUC"
   ]
  },
  {
   "cell_type": "code",
   "execution_count": 45,
   "metadata": {
    "ExecuteTime": {
     "end_time": "2020-08-03T22:00:03.336683Z",
     "start_time": "2020-08-03T22:00:02.896735Z"
    }
   },
   "outputs": [
    {
     "name": "stdout",
     "output_type": "stream",
     "text": [
      "0.6917107135725116\n",
      "0.6917107913974233\n"
     ]
    },
    {
     "data": {
      "image/png": "[encoded data removed]",
      "text/plain": [
       "<Figure size 288x288 with 1 Axes>"
      ]
     },
     "metadata": {
      "needs_background": "dark"
     },
     "output_type": "display_data"
    }
   ],
   "source": [
    "# Accuracy can easily be calculated using the _scikit-learn_ function `accuracy_score`.\n",
    "\n",
    "print(np.sum(roc_df.recall[:-1] * np.diff(1 - roc_df.specificity)))\n",
    "print(roc_auc_score([1 if yi == 'default' else 0 for yi in y], logit_reg.predict_proba(X)[:, 0]))\n",
    "\n",
    "fpr, tpr, thresholds = roc_curve(y, logit_reg.predict_proba(X)[:,0], \n",
    "                                 pos_label='default')\n",
    "roc_df = pd.DataFrame({'recall': tpr, 'specificity': 1 - fpr})\n",
    "\n",
    "ax = roc_df.plot(x='specificity', y='recall', figsize=(4, 4), legend=False)\n",
    "ax.set_ylim(0, 1)\n",
    "ax.set_xlim(1, 0)\n",
    "# ax.plot((1, 0), (0, 1))\n",
    "ax.set_xlabel('specificity')\n",
    "ax.set_ylabel('recall')\n",
    "ax.fill_between(roc_df.specificity, 0, roc_df.recall, alpha=0.3)\n",
    "\n",
    "\n",
    "plt.tight_layout()\n",
    "plt.show()"
   ]
  },
  {
   "cell_type": "markdown",
   "metadata": {},
   "source": [
    "## Strategies for Imbalanced Data"
   ]
  },
  {
   "cell_type": "code",
   "execution_count": 48,
   "metadata": {
    "ExecuteTime": {
     "end_time": "2020-08-03T22:01:59.468705Z",
     "start_time": "2020-08-03T22:01:59.101449Z"
    }
   },
   "outputs": [
    {
     "name": "stdout",
     "output_type": "stream",
     "text": [
      "(119987, 19)\n"
     ]
    }
   ],
   "source": [
    "### Undersampling\n",
    "# > The results differ from the R version, however are equivalent to results obtained using the R code. Model based results are of similar magnitude.\n",
    "\n",
    "full_train_set = pd.read_csv('./Data/full_train_set.csv')\n",
    "print(full_train_set.shape)"
   ]
  },
  {
   "cell_type": "code",
   "execution_count": 50,
   "metadata": {
    "ExecuteTime": {
     "end_time": "2020-08-03T22:02:31.118545Z",
     "start_time": "2020-08-03T22:02:31.102082Z"
    }
   },
   "outputs": [
    {
     "name": "stdout",
     "output_type": "stream",
     "text": [
      "percentage of loans in default:  18.894546909248504\n"
     ]
    }
   ],
   "source": [
    "print('percentage of loans in default: ', 100 * np.mean(full_train_set.outcome == 'default'))"
   ]
  },
  {
   "cell_type": "code",
   "execution_count": 52,
   "metadata": {
    "ExecuteTime": {
     "end_time": "2020-08-03T22:03:07.822742Z",
     "start_time": "2020-08-03T22:03:06.642001Z"
    }
   },
   "outputs": [
    {
     "name": "stdout",
     "output_type": "stream",
     "text": [
      "percentage of loans predicted to default:  1.0134431230049923\n"
     ]
    }
   ],
   "source": [
    "predictors = ['payment_inc_ratio', 'purpose_', 'home_', 'emp_len_', \n",
    "              'dti', 'revol_bal', 'revol_util']\n",
    "outcome = 'outcome'\n",
    "X = pd.get_dummies(full_train_set[predictors], prefix='', prefix_sep='', \n",
    "                   drop_first=True)\n",
    "y = full_train_set[outcome]\n",
    "\n",
    "full_model = LogisticRegression(penalty='l2', C=1e42, solver='liblinear')\n",
    "full_model.fit(X, y)\n",
    "print('percentage of loans predicted to default: ', 100 * np.mean(full_model.predict(X) == 'default'))"
   ]
  },
  {
   "cell_type": "code",
   "execution_count": 53,
   "metadata": {
    "ExecuteTime": {
     "end_time": "2020-08-03T22:03:24.505231Z",
     "start_time": "2020-08-03T22:03:24.473496Z"
    }
   },
   "outputs": [
    {
     "data": {
      "text/plain": [
       "18.64391447368421"
      ]
     },
     "execution_count": 53,
     "metadata": {},
     "output_type": "execute_result"
    }
   ],
   "source": [
    "(np.mean(full_train_set.outcome == 'default') / np.mean(full_model.predict(X) == 'default'))"
   ]
  },
  {
   "cell_type": "code",
   "execution_count": 54,
   "metadata": {
    "ExecuteTime": {
     "end_time": "2020-08-03T22:03:45.672170Z",
     "start_time": "2020-08-03T22:03:44.340631Z"
    }
   },
   "outputs": [
    {
     "name": "stdout",
     "output_type": "stream",
     "text": [
      "percentage of loans predicted to default (weighting):  61.628343070499305\n"
     ]
    }
   ],
   "source": [
    "### Oversampling and Up/Down Weighting\n",
    "\n",
    "default_wt = 1 / np.mean(full_train_set.outcome == 'default')\n",
    "wt = [default_wt if outcome == 'default' else 1 for outcome in full_train_set.outcome]\n",
    "\n",
    "full_model = LogisticRegression(penalty=\"l2\", C=1e42, solver='liblinear')\n",
    "full_model.fit(X, y, wt)\n",
    "print('percentage of loans predicted to default (weighting): ', 100 * np.mean(full_model.predict(X) == 'default'))"
   ]
  },
  {
   "cell_type": "markdown",
   "metadata": {},
   "source": [
    "## Data Generation"
   ]
  },
  {
   "cell_type": "code",
   "execution_count": 55,
   "metadata": {
    "ExecuteTime": {
     "end_time": "2020-08-03T22:04:27.590474Z",
     "start_time": "2020-08-03T22:04:26.788886Z"
    }
   },
   "outputs": [
    {
     "name": "stdout",
     "output_type": "stream",
     "text": [
      "percentage of loans in default (SMOTE resampled):  50.0\n"
     ]
    }
   ],
   "source": [
    "# The package _imbalanced-learn_ provides an implementation of the _SMOTE_ and similar algorithms.\n",
    "\n",
    "X_resampled, y_resampled = SMOTE().fit_resample(X, y)\n",
    "print('percentage of loans in default (SMOTE resampled): ', \n",
    "      100 * np.mean(y_resampled == 'default'))"
   ]
  },
  {
   "cell_type": "code",
   "execution_count": 56,
   "metadata": {
    "ExecuteTime": {
     "end_time": "2020-08-03T22:04:37.684433Z",
     "start_time": "2020-08-03T22:04:35.464304Z"
    }
   },
   "outputs": [
    {
     "name": "stdout",
     "output_type": "stream",
     "text": [
      "percentage of loans predicted to default (SMOTE):  29.600706743230514\n"
     ]
    }
   ],
   "source": [
    "full_model = LogisticRegression(penalty=\"l2\", C=1e42, solver='liblinear')\n",
    "full_model.fit(X_resampled, y_resampled)\n",
    "print('percentage of loans predicted to default (SMOTE): ', \n",
    "      100 * np.mean(full_model.predict(X) == 'default'))"
   ]
  },
  {
   "cell_type": "code",
   "execution_count": 58,
   "metadata": {
    "ExecuteTime": {
     "end_time": "2020-08-03T22:04:48.579490Z",
     "start_time": "2020-08-03T22:04:46.419999Z"
    }
   },
   "outputs": [
    {
     "name": "stdout",
     "output_type": "stream",
     "text": [
      "percentage of loans in default (ADASYN resampled):  48.56040383751355\n"
     ]
    }
   ],
   "source": [
    "X_resampled, y_resampled = ADASYN().fit_resample(X, y)\n",
    "print('percentage of loans in default (ADASYN resampled): ', \n",
    "      100 * np.mean(y_resampled == 'default'))"
   ]
  },
  {
   "cell_type": "code",
   "execution_count": 60,
   "metadata": {
    "ExecuteTime": {
     "end_time": "2020-08-03T22:05:07.621861Z",
     "start_time": "2020-08-03T22:05:05.382501Z"
    }
   },
   "outputs": [
    {
     "name": "stdout",
     "output_type": "stream",
     "text": [
      "percentage of loans predicted to default (ADASYN):  27.593822664121948\n"
     ]
    }
   ],
   "source": [
    "full_model = LogisticRegression(penalty=\"l2\", C=1e42, solver='liblinear')\n",
    "full_model.fit(X_resampled, y_resampled)\n",
    "print('percentage of loans predicted to default (ADASYN): ', 100 * np.mean(full_model.predict(X) == 'default'))"
   ]
  },
  {
   "cell_type": "markdown",
   "metadata": {},
   "source": [
    "## Exploring the Predictions"
   ]
  },
  {
   "cell_type": "code",
   "execution_count": 65,
   "metadata": {
    "ExecuteTime": {
     "end_time": "2020-08-03T22:06:42.119930Z",
     "start_time": "2020-08-03T22:06:42.070932Z"
    }
   },
   "outputs": [
    {
     "data": {
      "text/plain": [
       "LogisticRegression(solver='liblinear')"
      ]
     },
     "execution_count": 65,
     "metadata": {},
     "output_type": "execute_result"
    }
   ],
   "source": [
    "loan3000 = pd.read_csv('./Data/loan3000.csv')\n",
    "\n",
    "predictors = ['borrower_score', 'payment_inc_ratio']\n",
    "outcome = 'outcome'\n",
    "\n",
    "X = loan3000[predictors]\n",
    "y = loan3000[outcome]\n",
    "\n",
    "loan_tree = DecisionTreeClassifier(random_state=1, criterion='entropy', \n",
    "                                   min_impurity_decrease=0.003)\n",
    "loan_tree.fit(X, y)\n",
    "\n",
    "loan_lda = LinearDiscriminantAnalysis()\n",
    "loan_lda.fit(X, y)\n",
    "\n",
    "logit_reg = LogisticRegression(penalty=\"l2\", solver='liblinear')\n",
    "logit_reg.fit(X, y)"
   ]
  },
  {
   "cell_type": "code",
   "execution_count": 66,
   "metadata": {
    "ExecuteTime": {
     "end_time": "2020-08-03T22:06:44.287815Z",
     "start_time": "2020-08-03T22:06:42.392098Z"
    }
   },
   "outputs": [
    {
     "name": "stderr",
     "output_type": "stream",
     "text": [
      "100% (11 of 11) |########################| Elapsed Time: 0:00:00 Time:  0:00:00\n"
     ]
    },
    {
     "name": "stdout",
     "output_type": "stream",
     "text": [
      "LinearGAM(callbacks=[Deviance(), Diffs()], fit_intercept=True, \n",
      "   max_iter=100, scale=None, terms=s(0) + s(1) + intercept, \n",
      "   tol=0.0001, verbose=False)\n"
     ]
    },
    {
     "data": {
      "image/png": "[encoded data removed]",
      "text/plain": [
       "<Figure size 360x360 with 4 Axes>"
      ]
     },
     "metadata": {
      "needs_background": "dark"
     },
     "output_type": "display_data"
    }
   ],
   "source": [
    "## model\n",
    "gam = LinearGAM(s(0) + s(1))\n",
    "print(gam.gridsearch(X.values, [1 if yi == 'default' else 0 for yi in y]))\n",
    "\n",
    "models = {\n",
    "    'Decision Tree': loan_tree,\n",
    "    'Linear Discriminant Analysis': loan_lda,\n",
    "    'Logistic Regression': logit_reg,\n",
    "    'Generalized Additive Model': gam,\n",
    "}\n",
    "\n",
    "fig, axes = plt.subplots(nrows=2, ncols=2, figsize=(5, 5))\n",
    "\n",
    "xvalues = np.arange(0.25, 0.73, 0.005)\n",
    "yvalues = np.arange(-0.1, 20.1, 0.1)\n",
    "xx, yy = np.meshgrid(xvalues, yvalues)\n",
    "X = np.c_[xx.ravel(), yy.ravel()]\n",
    "\n",
    "boundary = {}\n",
    "\n",
    "for n, (title, model) in enumerate(models.items()):\n",
    "    ax = axes[n // 2, n % 2]\n",
    "    predict = model.predict(X)\n",
    "    if 'Generalized' in title:\n",
    "        Z = np.array([1 if z > 0.5 else 0 for z in predict])\n",
    "    else:\n",
    "        \n",
    "        Z = np.array([1 if z == 'default' else 0 for z in predict])\n",
    "    Z = Z.reshape(xx.shape)\n",
    "    boundary[title] = yvalues[np.argmax(Z > 0, axis=0)]\n",
    "    boundary[title][Z[-1,:] == 0] = yvalues[-1]\n",
    "\n",
    "    c = ax.pcolormesh(xx, yy, Z, cmap='Blues', vmin=0.1, vmax=1.3)\n",
    "    ax.set_title(title)\n",
    "    ax.grid(True)\n",
    "\n",
    "plt.tight_layout()\n",
    "plt.show();"
   ]
  },
  {
   "cell_type": "code",
   "execution_count": 67,
   "metadata": {
    "ExecuteTime": {
     "end_time": "2020-08-03T22:06:57.629886Z",
     "start_time": "2020-08-03T22:06:57.318876Z"
    }
   },
   "outputs": [
    {
     "data": {
      "image/png": "[encoded data removed]",
      "text/plain": [
       "<Figure size 360x288 with 1 Axes>"
      ]
     },
     "metadata": {
      "needs_background": "dark"
     },
     "output_type": "display_data"
    }
   ],
   "source": [
    "boundary['borrower_score'] = xvalues\n",
    "boundaries = pd.DataFrame(boundary)\n",
    "\n",
    "fig, ax = plt.subplots(figsize=(5, 4))\n",
    "boundaries.plot(x='borrower_score', ax=ax)\n",
    "ax.set_ylabel('payment_inc_ratio')\n",
    "ax.set_ylim(0, 20)\n",
    "\n",
    "\n",
    "plt.tight_layout()\n",
    "plt.show()"
   ]
  },
  {
   "cell_type": "code",
   "execution_count": null,
   "metadata": {},
   "outputs": [],
   "source": []
  }
 ],
 "metadata": {
  "kernelspec": {
   "display_name": "Python 3",
   "language": "python",
   "name": "python3"
  },
  "language_info": {
   "codemirror_mode": {
    "name": "ipython",
    "version": 3
   },
   "file_extension": ".py",
   "mimetype": "text/x-python",
   "name": "python",
   "nbconvert_exporter": "python",
   "pygments_lexer": "ipython3",
   "version": "3.7.6"
  }
 },
 "nbformat": 4,
 "nbformat_minor": 4
}
